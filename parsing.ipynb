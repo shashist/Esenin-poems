{
 "cells": [
  {
   "cell_type": "code",
   "execution_count": 55,
   "metadata": {},
   "outputs": [],
   "source": [
    "import numpy as np\n",
    "from tqdm import tqdm_notebook\n",
    "from urllib.request import urlopen\n",
    "from bs4 import BeautifulSoup\n",
    "import csv\n",
    "\n",
    "BASE_URL = 'http://russian-poetry.ru/Poet.php?PoetId=1'\n",
    "RANDOM_URL = 'http://russian-poetry.ru/Random.php'\n",
    "ESENIN_HREF = 'Poet.php?PoetId=96'"
   ]
  },
  {
   "cell_type": "code",
   "execution_count": 23,
   "metadata": {},
   "outputs": [],
   "source": [
    "def get_html(url):\n",
    "    response = urlopen(url)\n",
    "    return response.read()\n",
    "\n",
    "def save(poems, path):\n",
    "    with open(path, 'w', encoding='utf-8') as csvfile:\n",
    "        writer = csv.writer(csvfile)\n",
    "        writer.writerow(('id', 'poem'))\n",
    "        for i, poem in enumerate(poems):\n",
    "            writer.writerow((i, poem))\n",
    "        \n",
    "def get_random_poem(url):\n",
    "    html = get_html(url)\n",
    "    soup = BeautifulSoup(html, 'html.parser')\n",
    "    text = soup.find('pre').text\n",
    "    author = soup.find_all('b')[-3]\n",
    "    if author.a.get('href') != ESENIN_HREF:\n",
    "        return text\n",
    "    else:\n",
    "        return get_random_poem(html)\n",
    "    \n",
    "def get_esenin_poem(url):\n",
    "    html = get_html(url)\n",
    "    soup = BeautifulSoup(html, 'html.parser')\n",
    "    ul = soup.find_all('ul')[1]\n",
    "    poem_counter = 0\n",
    "    esenin_poems = []\n",
    "    li = ul.find_all('li')\n",
    "    for i, col in tqdm_notebook(enumerate(li)):\n",
    "        poem_counter += 1\n",
    "        poem_href = ''.join(('http://russian-poetry.ru/', col.a.get('href')))\n",
    "        new_html = get_html(poem_href)\n",
    "        new_soup = BeautifulSoup(new_html, 'html.parser')\n",
    "        esenin_poems.append(new_soup.find('pre').text)\n",
    "    save(esenin_poems, 'data/esenin.csv')\n",
    "    print(poem_counter)"
   ]
  },
  {
   "cell_type": "code",
   "execution_count": 29,
   "metadata": {},
   "outputs": [
    {
     "data": {
      "application/vnd.jupyter.widget-view+json": {
       "model_id": "1e57573ecedf453dbe4173cefc40b747",
       "version_major": 2,
       "version_minor": 0
      },
      "text/plain": [
       "HBox(children=(IntProgress(value=0, max=10), HTML(value='')))"
      ]
     },
     "metadata": {},
     "output_type": "display_data"
    },
    {
     "name": "stdout",
     "output_type": "stream",
     "text": [
      "\n"
     ]
    }
   ],
   "source": [
    "poems = []\n",
    "for i in tqdm_notebook(range(500)):\n",
    "    poems.append(get_random_poem(RANDOM_URL))\n",
    "\n",
    "save(poems, 'data/random.csv')"
   ]
  },
  {
   "cell_type": "code",
   "execution_count": 26,
   "metadata": {},
   "outputs": [
    {
     "data": {
      "application/vnd.jupyter.widget-view+json": {
       "model_id": "af863dd3b30d41d29a8153f3cc764f5a",
       "version_major": 2,
       "version_minor": 0
      },
      "text/plain": [
       "HBox(children=(IntProgress(value=1, bar_style='info', max=1), HTML(value='')))"
      ]
     },
     "metadata": {},
     "output_type": "display_data"
    },
    {
     "name": "stdout",
     "output_type": "stream",
     "text": [
      "\n",
      "343\n"
     ]
    }
   ],
   "source": [
    "get_esenin_poemn_poem(BASE_URL)"
   ]
  }
 ],
 "metadata": {
  "kernelspec": {
   "display_name": "Python 3",
   "language": "python",
   "name": "python3"
  },
  "language_info": {
   "codemirror_mode": {
    "name": "ipython",
    "version": 3
   },
   "file_extension": ".py",
   "mimetype": "text/x-python",
   "name": "python",
   "nbconvert_exporter": "python",
   "pygments_lexer": "ipython3",
   "version": "3.6.0"
  }
 },
 "nbformat": 4,
 "nbformat_minor": 2
}
